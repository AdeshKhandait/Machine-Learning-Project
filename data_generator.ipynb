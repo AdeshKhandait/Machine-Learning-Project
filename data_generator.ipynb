{
 "cells": [
  {
   "cell_type": "markdown",
   "metadata": {},
   "source": [
    "# Coin Flip Simulation"
   ]
  },
  {
   "cell_type": "markdown",
   "metadata": {},
   "source": [
    "## Importing the libraies"
   ]
  },
  {
   "cell_type": "code",
   "execution_count": 1197,
   "metadata": {},
   "outputs": [],
   "source": [
    "\n",
    "import numpy as np\n",
    "import pandas as pd\n",
    "import matplotlib as plt"
   ]
  },
  {
   "cell_type": "markdown",
   "metadata": {},
   "source": [
    "## Declaration Assumption\n",
    "- Heads = H: 0\n",
    "- Tails = T: 1\n"
   ]
  },
  {
   "cell_type": "markdown",
   "metadata": {},
   "source": [
    "## Data Frame Struct for Csv generation"
   ]
  },
  {
   "cell_type": "code",
   "execution_count": 1198,
   "metadata": {},
   "outputs": [
    {
     "name": "stdout",
     "output_type": "stream",
     "text": [
      "Empty DataFrame\n",
      "Columns: [Number, Amount, Bet, Probability, Predication, Toss, Result, Heads, Tails]\n",
      "Index: []\n"
     ]
    }
   ],
   "source": [
    "data = pd.DataFrame(columns=['Number','Amount','Bet', 'Probability','Predication', 'Toss', 'Result','Heads','Tails'])\n",
    "print(data)"
   ]
  },
  {
   "cell_type": "markdown",
   "metadata": {},
   "source": [
    "## Function:"
   ]
  },
  {
   "cell_type": "code",
   "execution_count": 1199,
   "metadata": {},
   "outputs": [],
   "source": [
    "import random\n",
    "\n",
    "# Function: Coin flipper \n",
    "def flip():\n",
    "    li = ['H','T']\n",
    "    return(random.choice(li))\n",
    "\n",
    "\n",
    "# Function: Probability Finder\n",
    "def prob(count_head,num_toss):\n",
    "    if num_toss == 0:\n",
    "        return 0.0\n",
    "    else:\n",
    "        prob = count_head/num_toss\n",
    "        prob = round(prob,1)\n",
    "        return prob\n",
    "\n",
    "\n",
    "# Function: Predicator\n",
    "# Preduction Strategy: IF count of head with respect to num of toss decrease then Predict: Heads elsel: Tails\n",
    "def predict(probability):\n",
    "    if probability > 0.5:\n",
    "        return 'T'\n",
    "    else:\n",
    "        return 'H'\n",
    "# Function: Result Finder\n",
    "def outcome(pred,result):\n",
    "    if pred == result:\n",
    "        return 'Win'\n",
    "    else:\n",
    "        return 'Lose'"
   ]
  },
  {
   "cell_type": "markdown",
   "metadata": {},
   "source": [
    "## Data Generation"
   ]
  },
  {
   "cell_type": "markdown",
   "metadata": {},
   "source": [
    "### Tuning Parameter"
   ]
  },
  {
   "cell_type": "code",
   "execution_count": 1200,
   "metadata": {},
   "outputs": [],
   "source": [
    "Num_Toss = 50\n",
    "Starting_Amount = 10000\n",
    "Risk = 5\n",
    "Risk_factor = Risk/100\n",
    "first_predict = 'H'\n",
    "# data = pd.DataFrame(columns=['Number','Amount','Betting Amount', 'Probability','Predication', 'Toss', 'Result','Heads','Tails'])"
   ]
  },
  {
   "cell_type": "code",
   "execution_count": 1201,
   "metadata": {},
   "outputs": [],
   "source": [
    "# Inserting Initia values \n",
    "count_heads = 0\n",
    "count_tails = 0\n",
    "toss = flip()\n",
    "if toss == 'H':\n",
    "    count_heads += 1\n",
    "else:\n",
    "    count_tails += 1\n",
    "data = data.drop(data.index)\n",
    "start = pd.DataFrame({'Number' : [0] ,\n",
    "        'Amount' : Starting_Amount,\n",
    "        'Bet': Starting_Amount*Risk_factor,\n",
    "        'Probability': prob(count_heads,1),\n",
    "        'Predication': first_predict,\n",
    "        'Toss' : toss,\n",
    "        'Result': outcome(first_predict,toss),\n",
    "        'Heads': count_heads,\n",
    "        'Tails': count_tails})\n",
    "\n",
    "data = pd.concat([data,start],ignore_index=True)"
   ]
  },
  {
   "cell_type": "code",
   "execution_count": 1202,
   "metadata": {},
   "outputs": [],
   "source": [
    "for i in range(1,Num_Toss + 1):\n",
    "# Calculating the Values for Inserting\n",
    "    # Amount\n",
    "    amount = 0\n",
    "    prev = data.loc[i-1]\n",
    "    if prev.Result == 'Win':\n",
    "        amount = prev.Amount + prev.Bet\n",
    "    else:\n",
    "        amount = prev.Amount - prev.Bet\n",
    "    # print(amount)\n",
    "    # Bet\n",
    "    bet = amount*Risk_factor\n",
    "    # Predication\n",
    "    pred = predict(prob(count_heads,i+1))\n",
    "    # Toss\n",
    "    toss = flip()\n",
    "    if toss == 'H':\n",
    "        count_heads += 1\n",
    "    else:\n",
    "        count_tails += 1\n",
    "    \n",
    "    temp = pd.DataFrame({'Number' : [i] ,\n",
    "                         'Amount' : amount,\n",
    "                         'Bet': bet,\n",
    "                         'Probability': prob(count_heads,i+1),\n",
    "                         'Predication': pred,\n",
    "                         'Toss' : toss,\n",
    "                         'Result': outcome(pred,toss),\n",
    "                         'Heads': count_heads,\n",
    "                         'Tails': count_tails})\n",
    "    data = pd.concat([data,temp],ignore_index=True)\n",
    "temp = temp.drop(temp.index)"
   ]
  },
  {
   "cell_type": "code",
   "execution_count": 1203,
   "metadata": {},
   "outputs": [],
   "source": [
    "# display(data)\n",
    "# data.to_csv('test_1%_random.csv')"
   ]
  },
  {
   "cell_type": "code",
   "execution_count": 1204,
   "metadata": {},
   "outputs": [
    {
     "data": {
      "text/plain": [
       "0           10000\n",
       "1          9500.0\n",
       "13    9358.387662\n",
       "15    9334.991693\n",
       "19    9288.375078\n",
       "21     9265.15414\n",
       "2          9025.0\n",
       "12    8912.750154\n",
       "14    8890.468279\n",
       "16    8868.242108\n",
       "18    8846.071503\n",
       "20    8823.956324\n",
       "22    8801.896433\n",
       "3         8573.75\n",
       "5     8552.315625\n",
       "11     8488.33348\n",
       "17    8424.830003\n",
       "23    8361.801612\n",
       "4       8145.0625\n",
       "6     8124.699844\n",
       "8     8104.388094\n",
       "10    8084.127124\n",
       "24    7943.711531\n",
       "26    7923.852252\n",
       "7     7718.464852\n",
       "9     7699.168689\n",
       "25    7546.525954\n",
       "27     7527.65964\n",
       "28    7151.276658\n",
       "29    6793.712825\n",
       "31    6776.728543\n",
       "35    6742.887254\n",
       "37    6726.030036\n",
       "30    6454.027183\n",
       "32    6437.892115\n",
       "34    6421.797385\n",
       "36    6405.742892\n",
       "38    6389.728534\n",
       "40    6373.754213\n",
       "33     6115.99751\n",
       "39    6070.242108\n",
       "41    6055.066502\n",
       "42    5752.313177\n",
       "43    5464.697519\n",
       "45    5451.035775\n",
       "44    5191.462643\n",
       "46    5178.483986\n",
       "47    4919.559787\n",
       "48    4673.581797\n",
       "49    4439.902707\n",
       "50    4217.907572\n",
       "Name: Amount, dtype: object"
      ]
     },
     "metadata": {},
     "output_type": "display_data"
    }
   ],
   "source": [
    "display(data['Amount'].sort_values(ascending=False))"
   ]
  },
  {
   "cell_type": "code",
   "execution_count": null,
   "metadata": {},
   "outputs": [],
   "source": []
  }
 ],
 "metadata": {
  "kernelspec": {
   "display_name": "Python 3.10.6 64-bit",
   "language": "python",
   "name": "python3"
  },
  "language_info": {
   "codemirror_mode": {
    "name": "ipython",
    "version": 3
   },
   "file_extension": ".py",
   "mimetype": "text/x-python",
   "name": "python",
   "nbconvert_exporter": "python",
   "pygments_lexer": "ipython3",
   "version": "3.10.6"
  },
  "orig_nbformat": 4,
  "vscode": {
   "interpreter": {
    "hash": "3235d5821ae672beee62b5d9417383fc13719668c2d3fe615844488b657a5ad5"
   }
  }
 },
 "nbformat": 4,
 "nbformat_minor": 2
}
